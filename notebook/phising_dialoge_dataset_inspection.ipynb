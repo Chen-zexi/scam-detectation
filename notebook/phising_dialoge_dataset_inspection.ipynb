{
  "cells": [
    {
      "cell_type": "markdown",
      "metadata": {
        "vscode": {
          "languageId": "raw"
        }
      },
      "source": [
        "# Phising Dialogue Dataset Inspection\n",
        "\n",
        "This notebook briefly inspects the dialogue dataset and performs the following processing steps:\n",
        "1. Load and inspect the dataset structure\n",
        "2. Create an ID column following the pattern \"dia-xxxx\"\n",
        "3. Rename \"lables\" column to \"label\"\n",
        "4. Save the processed dataset as \"phising_dialogue_dataset.csv\"\n"
      ]
    },
    {
      "cell_type": "code",
      "execution_count": 6,
      "metadata": {},
      "outputs": [
        {
          "name": "stdout",
          "output_type": "stream",
          "text": [
            "Dataset shape: (1600, 3)\n",
            "\n",
            "Column names:\n",
            "['dialogue', 'type', 'labels']\n",
            "\n",
            "First few rows:\n"
          ]
        },
        {
          "data": {
            "text/html": [
              "<div>\n",
              "<style scoped>\n",
              "    .dataframe tbody tr th:only-of-type {\n",
              "        vertical-align: middle;\n",
              "    }\n",
              "\n",
              "    .dataframe tbody tr th {\n",
              "        vertical-align: top;\n",
              "    }\n",
              "\n",
              "    .dataframe thead th {\n",
              "        text-align: right;\n",
              "    }\n",
              "</style>\n",
              "<table border=\"1\" class=\"dataframe\">\n",
              "  <thead>\n",
              "    <tr style=\"text-align: right;\">\n",
              "      <th></th>\n",
              "      <th>dialogue</th>\n",
              "      <th>type</th>\n",
              "      <th>labels</th>\n",
              "    </tr>\n",
              "  </thead>\n",
              "  <tbody>\n",
              "    <tr>\n",
              "      <th>0</th>\n",
              "      <td>Suspect: Hi, I'm calling from XYZ Medical Cent...</td>\n",
              "      <td>appointment</td>\n",
              "      <td>0</td>\n",
              "    </tr>\n",
              "    <tr>\n",
              "      <th>1</th>\n",
              "      <td>Suspect: Hi, I'm calling from XYZ Medical Cent...</td>\n",
              "      <td>appointment</td>\n",
              "      <td>0</td>\n",
              "    </tr>\n",
              "    <tr>\n",
              "      <th>2</th>\n",
              "      <td>Suspect: Hi, I'm calling to confirm your appoi...</td>\n",
              "      <td>appointment</td>\n",
              "      <td>0</td>\n",
              "    </tr>\n",
              "    <tr>\n",
              "      <th>3</th>\n",
              "      <td>Suspect: Hi, I'm calling to confirm your appoi...</td>\n",
              "      <td>appointment</td>\n",
              "      <td>0</td>\n",
              "    </tr>\n",
              "    <tr>\n",
              "      <th>4</th>\n",
              "      <td>Suspect: Hi, I'm calling to confirm your appoi...</td>\n",
              "      <td>appointment</td>\n",
              "      <td>0</td>\n",
              "    </tr>\n",
              "  </tbody>\n",
              "</table>\n",
              "</div>"
            ],
            "text/plain": [
              "                                            dialogue         type  labels\n",
              "0  Suspect: Hi, I'm calling from XYZ Medical Cent...  appointment       0\n",
              "1  Suspect: Hi, I'm calling from XYZ Medical Cent...  appointment       0\n",
              "2  Suspect: Hi, I'm calling to confirm your appoi...  appointment       0\n",
              "3  Suspect: Hi, I'm calling to confirm your appoi...  appointment       0\n",
              "4  Suspect: Hi, I'm calling to confirm your appoi...  appointment       0"
            ]
          },
          "execution_count": 6,
          "metadata": {},
          "output_type": "execute_result"
        }
      ],
      "source": [
        "import pandas as pd\n",
        "import numpy as np\n",
        "\n",
        "# Load the dataset\n",
        "\n",
        "raw_data_directory = \"../data/raw\"\n",
        "output_directory = \"../data/cleaned\"\n",
        "df = pd.read_csv(f'{raw_data_directory}/single-agent-scam-dialogue_all.csv')\n",
        "\n",
        "print(\"Dataset shape:\", df.shape)\n",
        "print(\"\\nColumn names:\")\n",
        "print(df.columns.tolist())\n",
        "print(\"\\nFirst few rows:\")\n",
        "df.head()\n"
      ]
    },
    {
      "cell_type": "code",
      "execution_count": 7,
      "metadata": {},
      "outputs": [
        {
          "name": "stdout",
          "output_type": "stream",
          "text": [
            "Dataset Info:\n",
            "Number of rows: 1600\n",
            "Number of columns: 3\n",
            "Missing values per column:\n",
            "dialogue    0\n",
            "type        0\n",
            "labels      0\n",
            "dtype: int64\n",
            "\n",
            "Data types:\n",
            "dialogue    object\n",
            "type        object\n",
            "labels       int64\n",
            "dtype: object\n"
          ]
        }
      ],
      "source": [
        "# Basic dataset information\n",
        "print(\"Dataset Info:\")\n",
        "print(f\"Number of rows: {len(df)}\")\n",
        "print(f\"Number of columns: {len(df.columns)}\")\n",
        "print(f\"Missing values per column:\")\n",
        "print(df.isnull().sum())\n",
        "print(f\"\\nData types:\")\n",
        "print(df.dtypes)\n"
      ]
    },
    {
      "cell_type": "code",
      "execution_count": 8,
      "metadata": {},
      "outputs": [
        {
          "name": "stdout",
          "output_type": "stream",
          "text": [
            "Renamed 'labels' column to 'label'\n",
            "\n",
            "Dataset after processing:\n",
            "Shape: (1600, 4)\n",
            "Columns: ['dialogue', 'type', 'label', 'id']\n"
          ]
        },
        {
          "data": {
            "text/html": [
              "<div>\n",
              "<style scoped>\n",
              "    .dataframe tbody tr th:only-of-type {\n",
              "        vertical-align: middle;\n",
              "    }\n",
              "\n",
              "    .dataframe tbody tr th {\n",
              "        vertical-align: top;\n",
              "    }\n",
              "\n",
              "    .dataframe thead th {\n",
              "        text-align: right;\n",
              "    }\n",
              "</style>\n",
              "<table border=\"1\" class=\"dataframe\">\n",
              "  <thead>\n",
              "    <tr style=\"text-align: right;\">\n",
              "      <th></th>\n",
              "      <th>dialogue</th>\n",
              "      <th>type</th>\n",
              "      <th>label</th>\n",
              "      <th>id</th>\n",
              "    </tr>\n",
              "  </thead>\n",
              "  <tbody>\n",
              "    <tr>\n",
              "      <th>0</th>\n",
              "      <td>Suspect: Hi, I'm calling from XYZ Medical Cent...</td>\n",
              "      <td>appointment</td>\n",
              "      <td>0</td>\n",
              "      <td>dia-0001</td>\n",
              "    </tr>\n",
              "    <tr>\n",
              "      <th>1</th>\n",
              "      <td>Suspect: Hi, I'm calling from XYZ Medical Cent...</td>\n",
              "      <td>appointment</td>\n",
              "      <td>0</td>\n",
              "      <td>dia-0002</td>\n",
              "    </tr>\n",
              "    <tr>\n",
              "      <th>2</th>\n",
              "      <td>Suspect: Hi, I'm calling to confirm your appoi...</td>\n",
              "      <td>appointment</td>\n",
              "      <td>0</td>\n",
              "      <td>dia-0003</td>\n",
              "    </tr>\n",
              "    <tr>\n",
              "      <th>3</th>\n",
              "      <td>Suspect: Hi, I'm calling to confirm your appoi...</td>\n",
              "      <td>appointment</td>\n",
              "      <td>0</td>\n",
              "      <td>dia-0004</td>\n",
              "    </tr>\n",
              "    <tr>\n",
              "      <th>4</th>\n",
              "      <td>Suspect: Hi, I'm calling to confirm your appoi...</td>\n",
              "      <td>appointment</td>\n",
              "      <td>0</td>\n",
              "      <td>dia-0005</td>\n",
              "    </tr>\n",
              "  </tbody>\n",
              "</table>\n",
              "</div>"
            ],
            "text/plain": [
              "                                            dialogue         type  label  \\\n",
              "0  Suspect: Hi, I'm calling from XYZ Medical Cent...  appointment      0   \n",
              "1  Suspect: Hi, I'm calling from XYZ Medical Cent...  appointment      0   \n",
              "2  Suspect: Hi, I'm calling to confirm your appoi...  appointment      0   \n",
              "3  Suspect: Hi, I'm calling to confirm your appoi...  appointment      0   \n",
              "4  Suspect: Hi, I'm calling to confirm your appoi...  appointment      0   \n",
              "\n",
              "         id  \n",
              "0  dia-0001  \n",
              "1  dia-0002  \n",
              "2  dia-0003  \n",
              "3  dia-0004  \n",
              "4  dia-0005  "
            ]
          },
          "execution_count": 8,
          "metadata": {},
          "output_type": "execute_result"
        }
      ],
      "source": [
        "# Create ID column following the pattern \"dia-xxxx\"\n",
        "df['id'] = ['dia-' + str(i).zfill(4) for i in range(1, len(df) + 1)]\n",
        "\n",
        "# Check if 'labels' column exists and rename to 'label'\n",
        "if 'labels' in df.columns:\n",
        "    df = df.rename(columns={'labels': 'label'})\n",
        "    print(\"Renamed 'labels' column to 'label'\")\n",
        "else:\n",
        "    print(\"Column 'lables' not found. Current columns:\", df.columns.tolist())\n",
        "\n",
        "print(\"\\nDataset after processing:\")\n",
        "print(\"Shape:\", df.shape)\n",
        "print(\"Columns:\", df.columns.tolist())\n",
        "df.head()\n"
      ]
    },
    {
      "cell_type": "code",
      "execution_count": 11,
      "metadata": {},
      "outputs": [
        {
          "name": "stdout",
          "output_type": "stream",
          "text": [
            "Processed dataset saved as '../data/cleaned/phising_dialogue_dataset.csv'\n",
            "Final dataset shape: (1600, 4)\n",
            "Processing completed successfully!\n"
          ]
        }
      ],
      "source": [
        "# Save the processed dataset\n",
        "output_filename = 'phising_dialogue_dataset.csv'\n",
        "df.to_csv(output_directory + '/' + output_filename, index=False)\n",
        "\n",
        "print(f\"Processed dataset saved as '{output_directory}/{output_filename}'\")\n",
        "print(f\"Final dataset shape: {df.shape}\")\n",
        "print(\"Processing completed successfully!\")\n"
      ]
    }
  ],
  "metadata": {
    "kernelspec": {
      "display_name": ".venv",
      "language": "python",
      "name": "python3"
    },
    "language_info": {
      "codemirror_mode": {
        "name": "ipython",
        "version": 3
      },
      "file_extension": ".py",
      "mimetype": "text/x-python",
      "name": "python",
      "nbconvert_exporter": "python",
      "pygments_lexer": "ipython3",
      "version": "3.12.9"
    }
  },
  "nbformat": 4,
  "nbformat_minor": 2
}
